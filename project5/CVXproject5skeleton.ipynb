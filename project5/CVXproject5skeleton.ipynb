{
 "cells": [
  {
   "cell_type": "markdown",
   "metadata": {},
   "source": [
    "# CVX 2021-2022 Project 5 "
   ]
  },
  {
   "cell_type": "code",
   "execution_count": 14,
   "metadata": {},
   "outputs": [],
   "source": [
    "# Import packages.\n",
    "# free SDP solver: https://github.com/TrishGillett/pysdpt3glue\n",
    "import cvxpy as cp\n",
    "import numpy as np\n",
    "from numpy.linalg import matrix_power\n",
    "from numpy import linalg as LA\n",
    "# make sure to use np.zeros() when you need something to initialize at 0. "
   ]
  },
  {
   "cell_type": "code",
   "execution_count": 15,
   "metadata": {},
   "outputs": [],
   "source": [
    "# The given data contains for E trajectories (different initial conditions) the vector x_{K+1}.\n",
    "# load that data\n",
    "data = np.loadtxt(\"datax.txt\")\n",
    "\n",
    "# Define the dynamics\n",
    "Adyn = np.matrix([[0.5, 0.8], [0, 0.5]])\n",
    "n = 2\n",
    "Q0 = np.matrix([[1, 0], [0, 1]])\n",
    "Qw = np.matrix([[1, 0], [0, 1]])"
   ]
  },
  {
   "cell_type": "code",
   "execution_count": 16,
   "metadata": {},
   "outputs": [
    {
     "data": {
      "text/plain": [
       "(2, 1000)"
      ]
     },
     "execution_count": 16,
     "metadata": {},
     "output_type": "execute_result"
    }
   ],
   "source": [
    "data.shape"
   ]
  },
  {
   "cell_type": "markdown",
   "metadata": {},
   "source": [
    "## Empirical probability"
   ]
  },
  {
   "cell_type": "code",
   "execution_count": 17,
   "metadata": {},
   "outputs": [],
   "source": [
    "def compute_e(Q0, Qw, Adyn, k):\n",
    "    E_p = np.zeros(Q0.shape)\n",
    "    for i in range(k + 1):\n",
    "        mat_temp = matrix_power(Adyn, (k-i))\n",
    "        E_p += mat_temp @ Qw @ mat_temp.T\n",
    "        \n",
    "    return matrix_power(Adyn, k) @ Q0 @ (matrix_power(Adyn, k)).T + E_p"
   ]
  },
  {
   "cell_type": "code",
   "execution_count": 18,
   "metadata": {},
   "outputs": [],
   "source": [
    "# Compute the first two moments \n",
    "K = 10\n",
    "E_pk = np.zeros((2,1))\n",
    "E_pkkT = compute_e(Q0, Qw, Adyn, K + 1)"
   ]
  },
  {
   "cell_type": "code",
   "execution_count": 19,
   "metadata": {},
   "outputs": [
    {
     "name": "stdout",
     "output_type": "stream",
     "text": [
      "Empirical probability: 99.80%\n"
     ]
    }
   ],
   "source": [
    "# compute the empirical probability of being in the safe set \n",
    "E = 1000\n",
    "saft_range = 8\n",
    "\n",
    "real_norm = np.linalg.norm(data, axis = 0, ord=1)\n",
    "emp_prob = (real_norm < saft_range).sum() / E\n",
    "print('Empirical probability: {:.2f}%'.format(emp_prob*100))"
   ]
  },
  {
   "cell_type": "markdown",
   "metadata": {},
   "source": [
    "## SDP Solution"
   ]
  },
  {
   "cell_type": "code",
   "execution_count": 22,
   "metadata": {},
   "outputs": [
    {
     "name": "stdout",
     "output_type": "stream",
     "text": [
      "Worst-case probability from SDP: 86.39%\n"
     ]
    }
   ],
   "source": [
    "b = 1 / 2 * np.array([[1.0, 1], [1, -1], [-1, 1], [-1, -1]])\n",
    "\n",
    "c = np.array([-saft_range, -saft_range, -saft_range, -saft_range])\n",
    "\n",
    "P = cp.Variable((n, n), symmetric=True)\n",
    "q = cp.Variable((n, 1))\n",
    "r = cp.Variable((1, 1))\n",
    "m = 4\n",
    "tau = cp.Variable((m, 1))\n",
    "\n",
    "\n",
    "obj = 1 - cp.trace(E_pkkT @ P) - 2 * (q.T @ E_pk) - r\n",
    "\n",
    "constr = []\n",
    "\n",
    "for i in range(m):\n",
    "    constr.append(\n",
    "        cp.bmat(\n",
    "            [[P, q - tau[i] * np.atleast_2d(b[i]).T],\n",
    "             [(q - tau[i] * np.atleast_2d(b[i]).T).T, (r - 1 - tau[i] * c[i])]]\n",
    "        ) >> 0\n",
    "    )\n",
    "\n",
    "constr.append(cp.bmat([[P, q], [q.T, r]]) >> 0)\n",
    "\n",
    "constr.append(tau >= 0)\n",
    "\n",
    "prob = cp.Problem(cp.Maximize(obj), constr)\n",
    "prob.solve()\n",
    "\n",
    "print(\"Worst-case probability from SDP: {:.2f}%\".format(prob.value * 100))"
   ]
  },
  {
   "cell_type": "code",
   "execution_count": 23,
   "metadata": {},
   "outputs": [
    {
     "name": "stdout",
     "output_type": "stream",
     "text": [
      "Worst-case probability from discrete model: 93.44%\n"
     ]
    }
   ],
   "source": [
    "# opt_result1 = 1 - np.trace(E_pkkT @ P.value) - 2 * (q.value.T @ E_pk) - r.value\n",
    "opt_result = 1 - np.trace(Q0 @ P.value) - 2 * (q.value.T @ E_pk) - r.value\n",
    "print(\"Worst-case probability from discrete model: {:.2f}%\".format(opt_result[0][0] * 100))"
   ]
  },
  {
   "cell_type": "code",
   "execution_count": null,
   "metadata": {},
   "outputs": [],
   "source": []
  }
 ],
 "metadata": {
  "kernelspec": {
   "display_name": "Python 3 (ipykernel)",
   "language": "python",
   "name": "python3"
  },
  "language_info": {
   "codemirror_mode": {
    "name": "ipython",
    "version": 3
   },
   "file_extension": ".py",
   "mimetype": "text/x-python",
   "name": "python",
   "nbconvert_exporter": "python",
   "pygments_lexer": "ipython3",
   "version": "3.9.7"
  }
 },
 "nbformat": 4,
 "nbformat_minor": 4
}
