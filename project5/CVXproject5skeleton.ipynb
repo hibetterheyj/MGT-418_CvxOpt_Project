{
 "cells": [
  {
   "cell_type": "markdown",
   "metadata": {},
   "source": [
    "# CVX 2021-2022 Project 5 "
   ]
  },
  {
   "cell_type": "code",
   "execution_count": 1,
   "metadata": {},
   "outputs": [],
   "source": [
    "# Import packages.\n",
    "# free SDP solver: https://github.com/TrishGillett/pysdpt3glue\n",
    "import cvxpy as cp\n",
    "import numpy as np\n",
    "from numpy.linalg import matrix_power\n",
    "from numpy import linalg as LA\n",
    "# make sure to use np.zeros() when you need something to initialize at 0. "
   ]
  },
  {
   "cell_type": "code",
   "execution_count": null,
   "metadata": {},
   "outputs": [],
   "source": [
    "# The given data contains for E trajectories (different initial conditions) the vector x_{K+1}.\n",
    "# load that data \n",
    "data = np.loadtxt(\"datax.txt\")\n",
    "\n",
    "# Define the dynamics \n",
    "Adyn=np.matrix([[0.5, 0.8], [0, 0.5]])\n",
    "n = 2\n",
    "Q0=np.matrix([[1, 0], [0, 1]])\n",
    "Qw=np.matrix([[1, 0], [0, 1]])"
   ]
  },
  {
   "cell_type": "code",
   "execution_count": 1,
   "metadata": {},
   "outputs": [
    {
     "ename": "SyntaxError",
     "evalue": "invalid syntax (<ipython-input-1-917cfa40187a>, line 23)",
     "output_type": "error",
     "traceback": [
      "\u001b[0;36m  File \u001b[0;32m\"<ipython-input-1-917cfa40187a>\"\u001b[0;36m, line \u001b[0;32m23\u001b[0m\n\u001b[0;31m    (your code here)\u001b[0m\n\u001b[0m             ^\u001b[0m\n\u001b[0;31mSyntaxError\u001b[0m\u001b[0;31m:\u001b[0m invalid syntax\n"
     ]
    }
   ],
   "source": [
    "# Compute the first two moments \n",
    "K = 10\n",
    "(your code here)\n",
    "\n",
    "# compute the empirical probability of being in the safe set \n",
    "E = 1000\n",
    "r = 8\n",
    "(your code here)\n",
    "\n",
    "\n",
    "# Define and solve the SDP\n",
    "(your code here) \n",
    "\n",
    "# Print the results (compare the SDP and the empirical values).\n"
   ]
  },
  {
   "cell_type": "code",
   "execution_count": null,
   "metadata": {},
   "outputs": [],
   "source": []
  }
 ],
 "metadata": {
  "kernelspec": {
   "display_name": "Python 3 (ipykernel)",
   "language": "python",
   "name": "python3"
  },
  "language_info": {
   "codemirror_mode": {
    "name": "ipython",
    "version": 3
   },
   "file_extension": ".py",
   "mimetype": "text/x-python",
   "name": "python",
   "nbconvert_exporter": "python",
   "pygments_lexer": "ipython3",
   "version": "3.9.7"
  }
 },
 "nbformat": 4,
 "nbformat_minor": 4
}
